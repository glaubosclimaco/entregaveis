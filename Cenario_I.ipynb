{
  "nbformat": 4,
  "nbformat_minor": 0,
  "metadata": {
    "colab": {
      "name": "Cenario-I.ipynb",
      "provenance": [],
      "mount_file_id": "1bMvSY3KFh1cIzbvUPrTi0hyGo-wtGPiU",
      "authorship_tag": "ABX9TyO+8OG0L/jc6/XpYepwnM5h",
      "include_colab_link": true
    },
    "kernelspec": {
      "name": "python3",
      "display_name": "Python 3"
    },
    "language_info": {
      "name": "python"
    }
  },
  "cells": [
    {
      "cell_type": "markdown",
      "metadata": {
        "id": "view-in-github",
        "colab_type": "text"
      },
      "source": [
        "<a href=\"https://colab.research.google.com/github/glaubosclimaco/entregaveis/blob/main/Cenario_I.ipynb\" target=\"_parent\"><img src=\"https://colab.research.google.com/assets/colab-badge.svg\" alt=\"Open In Colab\"/></a>"
      ]
    },
    {
      "cell_type": "markdown",
      "source": [
        "# Limpeza e organização dos dados"
      ],
      "metadata": {
        "id": "wW8WILwhL-WY"
      }
    },
    {
      "cell_type": "code",
      "execution_count": 1,
      "metadata": {
        "colab": {
          "base_uri": "https://localhost:8080/"
        },
        "id": "-N0bjBvwbsnP",
        "outputId": "86ad7a38-9d9b-4f1c-fff0-f40ab06da04d"
      },
      "outputs": [
        {
          "output_type": "stream",
          "name": "stdout",
          "text": [
            "['United States'] \n",
            "\n"
          ]
        }
      ],
      "source": [
        "import pandas as pd\n",
        "import matplotlib.pyplot as plt\n",
        "import seaborn as sns\n",
        "import sys\n",
        "\n",
        "#lendo o arquivo e usando um parser para datas (para futuras analises)\n",
        "df = pd.read_excel('/content/drive/MyDrive/Colab Notebooks/Cenário I/sample.xlsm',parse_dates=['Order Date','Ship Date'])\n",
        "\n",
        "\n",
        "# verificando quantos paises existem\n",
        "print(df.Country.unique(),'\\n')\n",
        "\n",
        "\n"
      ]
    },
    {
      "cell_type": "markdown",
      "source": [
        "Há apenas um valor único na coluna 'Country'. Os dados são apenas para o país dos EUA, portanto, não precisamos que nenhuma análise seja feita com base neles."
      ],
      "metadata": {
        "id": "uRKbSJi9B5-D"
      }
    },
    {
      "cell_type": "code",
      "source": [
        "# qual o range dos anos?\n",
        "print(df['Order Date'].dt.year.unique())\n",
        "print(df['Ship Date'].dt.year.unique())\n",
        "print(df[df['Ship Date'].dt.year == 2018]) \n"
      ],
      "metadata": {
        "colab": {
          "base_uri": "https://localhost:8080/"
        },
        "id": "p5PRKluFCVwB",
        "outputId": "2a67d1df-180c-4e69-b7db-501f793ab425"
      },
      "execution_count": 2,
      "outputs": [
        {
          "output_type": "stream",
          "name": "stdout",
          "text": [
            "[2016 2015 2014 2017]\n",
            "[2016 2015 2014 2017 2018]\n",
            "      Row ID        Order ID Order Date  ... Quantity Discount    Profit\n",
            "270    271.0  CA-2017-163979 2017-12-28  ...      4.0     0.00  210.4936\n",
            "570    571.0  CA-2017-164826 2017-12-28  ...      7.0     0.00   34.7760\n",
            "571    572.0  CA-2017-164826 2017-12-28  ...      4.0     0.00    6.4216\n",
            "572    573.0  CA-2017-164826 2017-12-28  ...      7.0     0.20   11.2266\n",
            "573    574.0  CA-2017-164826 2017-12-28  ...      3.0     0.00    4.0095\n",
            "645    646.0  CA-2017-126221 2017-12-30  ...      2.0     0.00   56.5110\n",
            "906    907.0  CA-2017-143259 2017-12-30  ...      4.0     0.20   12.1176\n",
            "907    908.0  CA-2017-143259 2017-12-30  ...      7.0     0.00    2.7279\n",
            "908    909.0  CA-2017-143259 2017-12-30  ...      3.0     0.20   19.7910\n",
            "953    954.0  CA-2017-136539 2017-12-28  ...      2.0     0.20    2.7168\n",
            "954    955.0  CA-2017-136539 2017-12-28  ...      2.0     0.32  -11.5960\n",
            "1008  1009.0  US-2017-106705 2017-12-26  ...      5.0     0.00   20.5850\n",
            "1296  1297.0  CA-2017-115427 2017-12-30  ...      2.0     0.20    4.5188\n",
            "1297  1298.0  CA-2017-115427 2017-12-30  ...      2.0     0.20    6.4750\n",
            "1877  1878.0  CA-2017-118885 2017-12-29  ...      4.0     0.20  -44.2764\n",
            "1878  1879.0  CA-2017-118885 2017-12-29  ...      3.0     0.20   22.6782\n",
            "2431  2432.0  CA-2017-129805 2017-12-28  ...      2.0     0.00    3.0340\n",
            "4239  4240.0  CA-2017-158673 2017-12-29  ...      2.0     0.00  100.6560\n",
            "4287  4288.0  CA-2017-127516 2017-12-28  ...      1.0     0.20  -12.9568\n",
            "5091  5092.0  CA-2017-156720 2017-12-30  ...      3.0     0.20   -0.6048\n",
            "5131  5132.0  CA-2017-146626 2017-12-29  ...      8.0     0.00   37.4144\n",
            "5456  5457.0  CA-2017-130631 2017-12-29  ...      5.0     0.00    9.6040\n",
            "5457  5458.0  CA-2017-130631 2017-12-29  ...      2.0     0.00   20.5380\n",
            "6818  6819.0  CA-2017-163860 2017-12-28  ...      5.0     0.80   -2.6880\n",
            "6819  6820.0  CA-2017-163860 2017-12-28  ...      3.0     0.60   -2.3904\n",
            "6820  6821.0  CA-2017-163860 2017-12-28  ...      2.0     0.30   -3.2392\n",
            "6821  6822.0  CA-2017-163860 2017-12-28  ...      2.0     0.60   -1.4060\n",
            "7484  7485.0  CA-2017-135111 2017-12-28  ...      1.0     0.00    0.8680\n",
            "7485  7486.0  CA-2017-135111 2017-12-28  ...      5.0     0.00   12.6910\n",
            "7632  7633.0  US-2017-158526 2017-12-29  ...      8.0     0.00  314.0384\n",
            "7633  7634.0  US-2017-158526 2017-12-29  ...      1.0     0.00    5.8891\n",
            "7634  7635.0  US-2017-158526 2017-12-29  ...      1.0     0.00   10.0282\n",
            "7635  7636.0  US-2017-158526 2017-12-29  ...      1.0     0.00   87.2842\n",
            "7636  7637.0  US-2017-158526 2017-12-29  ...      3.0     0.00   77.6250\n",
            "7942  7943.0  CA-2017-134194 2017-12-25  ...      9.0     0.80  -59.3730\n",
            "7943  7944.0  CA-2017-134194 2017-12-25  ...      7.0     0.20    5.0274\n",
            "7944  7945.0  CA-2017-134194 2017-12-25  ...      2.0     0.20    2.3808\n",
            "7945  7946.0  CA-2017-134194 2017-12-25  ...      5.0     0.80  -65.5680\n",
            "7946  7947.0  CA-2017-134194 2017-12-25  ...      3.0     0.80   -5.0688\n",
            "8097  8098.0  CA-2017-122798 2017-12-28  ...      5.0     0.00   34.2925\n",
            "8098  8099.0  CA-2017-122798 2017-12-28  ...      1.0     0.00    1.9260\n",
            "8158  8159.0  CA-2017-136238 2017-12-26  ...      3.0     0.20    5.6112\n",
            "\n",
            "[42 rows x 21 columns]\n"
          ]
        }
      ]
    },
    {
      "cell_type": "markdown",
      "source": [
        "Tentativa de verificar um outlier no range de anos. Inicialmente pensei que *2018* fosse um outlier, mas depois foi verificado que não, pois há alguns *order date* no final do ano "
      ],
      "metadata": {
        "id": "hYlCLF8tCnb7"
      }
    },
    {
      "cell_type": "code",
      "source": [
        "# Verificando se há algum valor ausente \n",
        "pd.DataFrame(df.isnull().sum(), columns = [\"Valores ausentes\"])"
      ],
      "metadata": {
        "colab": {
          "base_uri": "https://localhost:8080/",
          "height": 708
        },
        "id": "TOht5NVW9Xcw",
        "outputId": "a8f43301-50e8-4f1d-9a45-d9123b7629ec"
      },
      "execution_count": 3,
      "outputs": [
        {
          "output_type": "execute_result",
          "data": {
            "text/html": [
              "\n",
              "  <div id=\"df-9892621c-1d15-4a0d-bd9e-16e37aac7179\">\n",
              "    <div class=\"colab-df-container\">\n",
              "      <div>\n",
              "<style scoped>\n",
              "    .dataframe tbody tr th:only-of-type {\n",
              "        vertical-align: middle;\n",
              "    }\n",
              "\n",
              "    .dataframe tbody tr th {\n",
              "        vertical-align: top;\n",
              "    }\n",
              "\n",
              "    .dataframe thead th {\n",
              "        text-align: right;\n",
              "    }\n",
              "</style>\n",
              "<table border=\"1\" class=\"dataframe\">\n",
              "  <thead>\n",
              "    <tr style=\"text-align: right;\">\n",
              "      <th></th>\n",
              "      <th>Valores ausentes</th>\n",
              "    </tr>\n",
              "  </thead>\n",
              "  <tbody>\n",
              "    <tr>\n",
              "      <th>Row ID</th>\n",
              "      <td>0</td>\n",
              "    </tr>\n",
              "    <tr>\n",
              "      <th>Order ID</th>\n",
              "      <td>0</td>\n",
              "    </tr>\n",
              "    <tr>\n",
              "      <th>Order Date</th>\n",
              "      <td>0</td>\n",
              "    </tr>\n",
              "    <tr>\n",
              "      <th>Ship Date</th>\n",
              "      <td>0</td>\n",
              "    </tr>\n",
              "    <tr>\n",
              "      <th>Ship Mode</th>\n",
              "      <td>0</td>\n",
              "    </tr>\n",
              "    <tr>\n",
              "      <th>Customer ID</th>\n",
              "      <td>0</td>\n",
              "    </tr>\n",
              "    <tr>\n",
              "      <th>Customer Name</th>\n",
              "      <td>0</td>\n",
              "    </tr>\n",
              "    <tr>\n",
              "      <th>Segment</th>\n",
              "      <td>0</td>\n",
              "    </tr>\n",
              "    <tr>\n",
              "      <th>Country</th>\n",
              "      <td>0</td>\n",
              "    </tr>\n",
              "    <tr>\n",
              "      <th>City</th>\n",
              "      <td>0</td>\n",
              "    </tr>\n",
              "    <tr>\n",
              "      <th>State</th>\n",
              "      <td>0</td>\n",
              "    </tr>\n",
              "    <tr>\n",
              "      <th>Postal Code</th>\n",
              "      <td>0</td>\n",
              "    </tr>\n",
              "    <tr>\n",
              "      <th>Region</th>\n",
              "      <td>0</td>\n",
              "    </tr>\n",
              "    <tr>\n",
              "      <th>Product ID</th>\n",
              "      <td>0</td>\n",
              "    </tr>\n",
              "    <tr>\n",
              "      <th>Category</th>\n",
              "      <td>0</td>\n",
              "    </tr>\n",
              "    <tr>\n",
              "      <th>Sub-Category</th>\n",
              "      <td>0</td>\n",
              "    </tr>\n",
              "    <tr>\n",
              "      <th>Product Name</th>\n",
              "      <td>0</td>\n",
              "    </tr>\n",
              "    <tr>\n",
              "      <th>Sales</th>\n",
              "      <td>0</td>\n",
              "    </tr>\n",
              "    <tr>\n",
              "      <th>Quantity</th>\n",
              "      <td>0</td>\n",
              "    </tr>\n",
              "    <tr>\n",
              "      <th>Discount</th>\n",
              "      <td>0</td>\n",
              "    </tr>\n",
              "    <tr>\n",
              "      <th>Profit</th>\n",
              "      <td>0</td>\n",
              "    </tr>\n",
              "  </tbody>\n",
              "</table>\n",
              "</div>\n",
              "      <button class=\"colab-df-convert\" onclick=\"convertToInteractive('df-9892621c-1d15-4a0d-bd9e-16e37aac7179')\"\n",
              "              title=\"Convert this dataframe to an interactive table.\"\n",
              "              style=\"display:none;\">\n",
              "        \n",
              "  <svg xmlns=\"http://www.w3.org/2000/svg\" height=\"24px\"viewBox=\"0 0 24 24\"\n",
              "       width=\"24px\">\n",
              "    <path d=\"M0 0h24v24H0V0z\" fill=\"none\"/>\n",
              "    <path d=\"M18.56 5.44l.94 2.06.94-2.06 2.06-.94-2.06-.94-.94-2.06-.94 2.06-2.06.94zm-11 1L8.5 8.5l.94-2.06 2.06-.94-2.06-.94L8.5 2.5l-.94 2.06-2.06.94zm10 10l.94 2.06.94-2.06 2.06-.94-2.06-.94-.94-2.06-.94 2.06-2.06.94z\"/><path d=\"M17.41 7.96l-1.37-1.37c-.4-.4-.92-.59-1.43-.59-.52 0-1.04.2-1.43.59L10.3 9.45l-7.72 7.72c-.78.78-.78 2.05 0 2.83L4 21.41c.39.39.9.59 1.41.59.51 0 1.02-.2 1.41-.59l7.78-7.78 2.81-2.81c.8-.78.8-2.07 0-2.86zM5.41 20L4 18.59l7.72-7.72 1.47 1.35L5.41 20z\"/>\n",
              "  </svg>\n",
              "      </button>\n",
              "      \n",
              "  <style>\n",
              "    .colab-df-container {\n",
              "      display:flex;\n",
              "      flex-wrap:wrap;\n",
              "      gap: 12px;\n",
              "    }\n",
              "\n",
              "    .colab-df-convert {\n",
              "      background-color: #E8F0FE;\n",
              "      border: none;\n",
              "      border-radius: 50%;\n",
              "      cursor: pointer;\n",
              "      display: none;\n",
              "      fill: #1967D2;\n",
              "      height: 32px;\n",
              "      padding: 0 0 0 0;\n",
              "      width: 32px;\n",
              "    }\n",
              "\n",
              "    .colab-df-convert:hover {\n",
              "      background-color: #E2EBFA;\n",
              "      box-shadow: 0px 1px 2px rgba(60, 64, 67, 0.3), 0px 1px 3px 1px rgba(60, 64, 67, 0.15);\n",
              "      fill: #174EA6;\n",
              "    }\n",
              "\n",
              "    [theme=dark] .colab-df-convert {\n",
              "      background-color: #3B4455;\n",
              "      fill: #D2E3FC;\n",
              "    }\n",
              "\n",
              "    [theme=dark] .colab-df-convert:hover {\n",
              "      background-color: #434B5C;\n",
              "      box-shadow: 0px 1px 3px 1px rgba(0, 0, 0, 0.15);\n",
              "      filter: drop-shadow(0px 1px 2px rgba(0, 0, 0, 0.3));\n",
              "      fill: #FFFFFF;\n",
              "    }\n",
              "  </style>\n",
              "\n",
              "      <script>\n",
              "        const buttonEl =\n",
              "          document.querySelector('#df-9892621c-1d15-4a0d-bd9e-16e37aac7179 button.colab-df-convert');\n",
              "        buttonEl.style.display =\n",
              "          google.colab.kernel.accessAllowed ? 'block' : 'none';\n",
              "\n",
              "        async function convertToInteractive(key) {\n",
              "          const element = document.querySelector('#df-9892621c-1d15-4a0d-bd9e-16e37aac7179');\n",
              "          const dataTable =\n",
              "            await google.colab.kernel.invokeFunction('convertToInteractive',\n",
              "                                                     [key], {});\n",
              "          if (!dataTable) return;\n",
              "\n",
              "          const docLinkHtml = 'Like what you see? Visit the ' +\n",
              "            '<a target=\"_blank\" href=https://colab.research.google.com/notebooks/data_table.ipynb>data table notebook</a>'\n",
              "            + ' to learn more about interactive tables.';\n",
              "          element.innerHTML = '';\n",
              "          dataTable['output_type'] = 'display_data';\n",
              "          await google.colab.output.renderOutput(dataTable, element);\n",
              "          const docLink = document.createElement('div');\n",
              "          docLink.innerHTML = docLinkHtml;\n",
              "          element.appendChild(docLink);\n",
              "        }\n",
              "      </script>\n",
              "    </div>\n",
              "  </div>\n",
              "  "
            ],
            "text/plain": [
              "               Valores ausentes\n",
              "Row ID                        0\n",
              "Order ID                      0\n",
              "Order Date                    0\n",
              "Ship Date                     0\n",
              "Ship Mode                     0\n",
              "Customer ID                   0\n",
              "Customer Name                 0\n",
              "Segment                       0\n",
              "Country                       0\n",
              "City                          0\n",
              "State                         0\n",
              "Postal Code                   0\n",
              "Region                        0\n",
              "Product ID                    0\n",
              "Category                      0\n",
              "Sub-Category                  0\n",
              "Product Name                  0\n",
              "Sales                         0\n",
              "Quantity                      0\n",
              "Discount                      0\n",
              "Profit                        0"
            ]
          },
          "metadata": {},
          "execution_count": 3
        }
      ]
    },
    {
      "cell_type": "markdown",
      "source": [
        "### Possíveis outliers para Sales"
      ],
      "metadata": {
        "id": "bDQhBAgODySb"
      }
    },
    {
      "cell_type": "code",
      "source": [
        "# print(\"\\nPossíveis outliers para Sales:\\n\\n\")\n",
        "\n",
        "q_low = df[\"Sales\"].quantile(0.001)\n",
        "q_hi  = df[\"Sales\"].quantile(0.999)\n",
        "\n",
        "df_filtered = df[(df[\"Sales\"] < q_low)] \n",
        "print(df_filtered,'\\n\\n')\n",
        "df_filtered = df[(df[\"Sales\"] > q_hi)] \n",
        "print(df_filtered,'\\n\\n')"
      ],
      "metadata": {
        "colab": {
          "base_uri": "https://localhost:8080/"
        },
        "id": "qFho9bIoEo9q",
        "outputId": "1a58b4a8-bd47-4a8e-866c-373cb3e914a4"
      },
      "execution_count": 4,
      "outputs": [
        {
          "output_type": "stream",
          "name": "stdout",
          "text": [
            "      Row ID        Order ID Order Date  ... Quantity Discount  Profit\n",
            "1332  1333.0  CA-2014-122567 2014-02-16  ...      3.0      0.8 -1.7280\n",
            "2106  2107.0  US-2014-152723 2014-09-26  ...      1.0      0.8 -1.4016\n",
            "2761  2762.0  CA-2017-126536 2017-10-12  ...      1.0      0.0  0.4356\n",
            "4101  4102.0  US-2017-102288 2017-06-19  ...      1.0      0.8 -1.1100\n",
            "4711  4712.0  CA-2014-112403 2014-03-31  ...      1.0      0.7 -0.5964\n",
            "7548  7549.0  CA-2014-103492 2014-10-10  ...      1.0      0.8 -1.5715\n",
            "8024  8025.0  CA-2014-129189 2014-07-21  ...      1.0      0.8 -1.8270\n",
            "8033  8034.0  CA-2015-119690 2015-06-25  ...      2.0      0.8 -1.4760\n",
            "8658  8659.0  CA-2016-168361 2016-06-21  ...      1.0      0.8 -1.3376\n",
            "9292  9293.0  CA-2017-124114 2017-03-02  ...      1.0      0.8 -0.9452\n",
            "\n",
            "[10 rows x 21 columns] \n",
            "\n",
            "\n",
            "      Row ID        Order ID Order Date  ... Quantity Discount     Profit\n",
            "2623  2624.0  CA-2017-127180 2017-10-22  ...      4.0      0.2  3919.9888\n",
            "2697  2698.0  CA-2014-145317 2014-03-18  ...      6.0      0.5 -1811.0784\n",
            "4098  4099.0  CA-2014-116904 2014-09-23  ...      5.0      0.0  4630.4755\n",
            "4190  4191.0  CA-2017-166709 2017-11-17  ...      3.0      0.0  5039.9856\n",
            "4277  4278.0  US-2016-107440 2016-04-16  ...      7.0      0.0  2365.9818\n",
            "6425  6426.0  CA-2016-143714 2016-05-23  ...      4.0      0.4  1119.9968\n",
            "6826  6827.0  CA-2016-118689 2016-10-02  ...      5.0      0.0  8399.9760\n",
            "8153  8154.0  CA-2017-140151 2017-03-23  ...      4.0      0.0  6719.9808\n",
            "8488  8489.0  CA-2016-158841 2016-02-02  ...      5.0      0.0  2799.9840\n",
            "9039  9040.0  CA-2016-117121 2016-12-17  ...     13.0      0.0  4946.3700\n",
            "\n",
            "[10 rows x 21 columns] \n",
            "\n",
            "\n"
          ]
        }
      ]
    },
    {
      "cell_type": "markdown",
      "source": [
        "### Possíveis outliers para Profit"
      ],
      "metadata": {
        "id": "MBt0jIJZDsAf"
      }
    },
    {
      "cell_type": "code",
      "source": [
        "\n",
        "# print(\"\\nPossíveis outliers para Quantity:\\n\\n\")\n",
        "\n",
        "\n",
        "# q_low = df[\"Quantity\"].quantile(0.1)\n",
        "# q_hi  = df[\"Quantity\"].quantile(0.99)\n",
        "\n",
        "# df_filtered = df[(df[\"Quantity\"] < q_low)] \n",
        "# print(df_filtered,'\\n\\n')\n",
        "# df_filtered = df[(df[\"Quantity\"] > q_hi)] \n",
        "# print(df_filtered,'\\n\\n')\n",
        "\n",
        "# print(\"\\nPossíveis outliers para Profit:\\n\\n\")\n",
        "\n",
        "q_low = df[\"Profit\"].quantile(0.001)\n",
        "q_hi  = df[\"Profit\"].quantile(0.999)\n",
        "\n",
        "df_filtered = df[(df[\"Profit\"] < q_low)] \n",
        "print(df_filtered,'\\n\\n')\n",
        "df_filtered = df[(df[\"Profit\"] > q_hi)] \n",
        "print(df_filtered,'\\n\\n')\n",
        "\n"
      ],
      "metadata": {
        "colab": {
          "base_uri": "https://localhost:8080/"
        },
        "id": "uBYerpHkD5PP",
        "outputId": "f11a4c2c-630c-4238-dd60-de8b77830e58"
      },
      "execution_count": 5,
      "outputs": [
        {
          "output_type": "stream",
          "name": "stdout",
          "text": [
            "      Row ID        Order ID Order Date  ... Quantity Discount     Profit\n",
            "683    684.0  US-2017-168116 2017-11-04  ...      4.0      0.5 -3839.9904\n",
            "1199  1200.0  CA-2016-130946 2016-04-08  ...      4.0      0.8 -1850.9464\n",
            "2697  2698.0  CA-2014-145317 2014-03-18  ...      6.0      0.5 -1811.0784\n",
            "3011  3012.0  CA-2017-134845 2017-04-17  ...      5.0      0.7 -3399.9800\n",
            "3151  3152.0  CA-2015-147830 2015-12-15  ...      2.0      0.7 -2639.9912\n",
            "4991  4992.0  US-2017-122714 2017-12-07  ...      5.0      0.8 -2929.4845\n",
            "5310  5311.0  CA-2017-131254 2017-11-19  ...      6.0      0.8 -2287.7820\n",
            "7772  7773.0  CA-2016-108196 2016-11-25  ...      5.0      0.7 -6599.9780\n",
            "9639  9640.0  CA-2015-116638 2015-01-28  ...     13.0      0.4 -1862.3124\n",
            "9774  9775.0  CA-2014-169019 2014-07-26  ...      8.0      0.8 -3701.8928\n",
            "\n",
            "[10 rows x 21 columns] \n",
            "\n",
            "\n",
            "      Row ID        Order ID Order Date  ... Quantity Discount     Profit\n",
            "509    510.0  CA-2015-145352 2015-03-16  ...      5.0      0.0  3177.4750\n",
            "2623  2624.0  CA-2017-127180 2017-10-22  ...      4.0      0.2  3919.9888\n",
            "4098  4099.0  CA-2014-116904 2014-09-23  ...      5.0      0.0  4630.4755\n",
            "4190  4191.0  CA-2017-166709 2017-11-17  ...      3.0      0.0  5039.9856\n",
            "6520  6521.0  CA-2017-138289 2017-01-16  ...      4.0      0.0  2504.2216\n",
            "6826  6827.0  CA-2016-118689 2016-10-02  ...      5.0      0.0  8399.9760\n",
            "7666  7667.0  US-2016-140158 2016-10-04  ...      9.0      0.0  2591.9568\n",
            "8153  8154.0  CA-2017-140151 2017-03-23  ...      4.0      0.0  6719.9808\n",
            "8488  8489.0  CA-2016-158841 2016-02-02  ...      5.0      0.0  2799.9840\n",
            "9039  9040.0  CA-2016-117121 2016-12-17  ...     13.0      0.0  4946.3700\n",
            "\n",
            "[10 rows x 21 columns] \n",
            "\n",
            "\n"
          ]
        }
      ]
    },
    {
      "cell_type": "markdown",
      "source": [
        "* *Sales:* Se considerarmos que a coluna “Sales” representa o número de vendas de um certo produto, temos algumas anomalias nos dados, nos casos em que “Sales” é menor que 1 (um). O que significaria isso?\n",
        "\n"
      ],
      "metadata": {
        "id": "luJixVWzFgSS"
      }
    },
    {
      "cell_type": "markdown",
      "source": [
        "# Análise exploratória"
      ],
      "metadata": {
        "id": "PqzcgV9ULMO6"
      }
    },
    {
      "cell_type": "markdown",
      "source": [
        "Correlacao entre as colunas"
      ],
      "metadata": {
        "id": "xiT8K9oYD44q"
      }
    },
    {
      "cell_type": "code",
      "source": [
        "# Correlacao entre as colunas\n",
        "# print('Correlacao entre as colunas:\\n')\n",
        "print(df.corr())\n",
        "\n",
        "# Descricao dos dados\n",
        "# print(\"\\nEstatística descritiva:\\n\")\n"
      ],
      "metadata": {
        "colab": {
          "base_uri": "https://localhost:8080/"
        },
        "id": "FFmim-nUE47I",
        "outputId": "538cdef1-9d9f-43f1-f2aa-2250e6c1391a"
      },
      "execution_count": 6,
      "outputs": [
        {
          "output_type": "stream",
          "name": "stdout",
          "text": [
            "               Row ID  Postal Code     Sales  Quantity  Discount    Profit\n",
            "Row ID       1.000000     0.009671 -0.001359 -0.004016  0.013480  0.012497\n",
            "Postal Code  0.009671     1.000000 -0.023854  0.012761  0.058443 -0.029961\n",
            "Sales       -0.001359    -0.023854  1.000000  0.200795 -0.028190  0.479064\n",
            "Quantity    -0.004016     0.012761  0.200795  1.000000  0.008623  0.066253\n",
            "Discount     0.013480     0.058443 -0.028190  0.008623  1.000000 -0.219487\n",
            "Profit       0.012497    -0.029961  0.479064  0.066253 -0.219487  1.000000\n"
          ]
        }
      ]
    },
    {
      "cell_type": "markdown",
      "source": [
        "### Estatística descritiva"
      ],
      "metadata": {
        "id": "nwtY6yFZEBHF"
      }
    },
    {
      "cell_type": "code",
      "source": [
        "print(df.describe())"
      ],
      "metadata": {
        "colab": {
          "base_uri": "https://localhost:8080/"
        },
        "id": "DB8rUuxGD9p7",
        "outputId": "22c38ca7-a5e3-4e1a-ceb6-34cf571b7097"
      },
      "execution_count": 7,
      "outputs": [
        {
          "output_type": "stream",
          "name": "stdout",
          "text": [
            "            Row ID   Postal Code  ...     Discount       Profit\n",
            "count  9994.000000   9994.000000  ...  9994.000000  9994.000000\n",
            "mean   4997.500000  55190.379428  ...     0.156203    28.656896\n",
            "std    2885.163629  32063.693350  ...     0.206452   234.260108\n",
            "min       1.000000   1040.000000  ...     0.000000 -6599.978000\n",
            "25%    2499.250000  23223.000000  ...     0.000000     1.728750\n",
            "50%    4997.500000  56430.500000  ...     0.200000     8.666500\n",
            "75%    7495.750000  90008.000000  ...     0.200000    29.364000\n",
            "max    9994.000000  99301.000000  ...     0.800000  8399.976000\n",
            "\n",
            "[8 rows x 6 columns]\n"
          ]
        }
      ]
    },
    {
      "cell_type": "markdown",
      "source": [
        "* *Profit negativo:*\n",
        "A planilha contém valores negativos da coluna \"Profit\". Como se trata do lucro das vendas, é um valor que considerei inesperado.\n",
        "Foi verificado que a coluna \"Discount\" possui uma correlação de -0.21 com a coluna \"Profit\", uma das mais altas da tabela. Então, podemos suspeitar que às vezes está sendo aplicado muito desconto, causando prejuízo (profit negativo). A Figura 1 ilustra em que casos isso ocorre.\n",
        "Porém, não foi possível identificar uma expressão que melhor descreva a relação entre essas duas colunas, pois \"profit\" deve estar também relacionado com as colunas \"Sales\" e \"Quantity\".\n"
      ],
      "metadata": {
        "id": "orwtMzCHbv9G"
      }
    },
    {
      "cell_type": "markdown",
      "source": [
        "![Profit versus Discount.png](data:image/png;base64,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)"
      ],
      "metadata": {
        "id": "Sgt085KbkZSH"
      }
    },
    {
      "cell_type": "markdown",
      "source": [
        "### 10 produtos mais lucrativos"
      ],
      "metadata": {
        "id": "XGpc-bW3dCAY"
      }
    },
    {
      "cell_type": "code",
      "source": [
        "# print('\\n10 produtos mais lucrativos:\\n')\n",
        "print(df.groupby(\"Product Name\").Profit.sum().sort_values(ascending=False).head(10),'\\n\\n')"
      ],
      "metadata": {
        "colab": {
          "base_uri": "https://localhost:8080/"
        },
        "id": "73f8ppFXc_pJ",
        "outputId": "d1bd29bd-7463-4036-8099-e8d6aaa14835"
      },
      "execution_count": 8,
      "outputs": [
        {
          "output_type": "stream",
          "name": "stdout",
          "text": [
            "Product Name\n",
            "Canon imageCLASS 2200 Advanced Copier                                          25199.9280\n",
            "Fellowes PB500 Electric Punch Plastic Comb Binding Machine with Manual Bind     7753.0390\n",
            "Hewlett Packard LaserJet 3310 Copier                                            6983.8836\n",
            "Canon PC1060 Personal Laser Copier                                              4570.9347\n",
            "HP Designjet T520 Inkjet Large Format Printer - 24\" Color                       4094.9766\n",
            "Ativa V4110MDD Micro-Cut Shredder                                               3772.9461\n",
            "3D Systems Cube Printer, 2nd Generation, Magenta                                3717.9714\n",
            "Plantronics Savi W720 Multi-Device Wireless Headset System                      3696.2820\n",
            "Ibico EPK-21 Electric Binding System                                            3345.2823\n",
            "Zebra ZM400 Thermal Label Printer                                               3343.5360\n",
            "Name: Profit, dtype: float64 \n",
            "\n",
            "\n"
          ]
        }
      ]
    },
    {
      "cell_type": "markdown",
      "source": [
        "### Categorias mais lucrativas"
      ],
      "metadata": {
        "id": "8XpuDVG7dJA-"
      }
    },
    {
      "cell_type": "code",
      "source": [
        "# print('\\nCategorias mais lucrativas:\\n')\n",
        "print(df.groupby(\"Category\").Profit.sum(),'\\n\\n')\n"
      ],
      "metadata": {
        "colab": {
          "base_uri": "https://localhost:8080/"
        },
        "id": "yBmnosPVD_Et",
        "outputId": "f57b2ba6-2e6c-4eb7-b711-9ef78aa252cd"
      },
      "execution_count": 9,
      "outputs": [
        {
          "output_type": "stream",
          "name": "stdout",
          "text": [
            "Category\n",
            "Furniture           18451.2728\n",
            "Office Supplies    122490.8008\n",
            "Technology         145454.9481\n",
            "Name: Profit, dtype: float64 \n",
            "\n",
            "\n"
          ]
        }
      ]
    },
    {
      "cell_type": "markdown",
      "source": [
        "### 10 produtos mais vendidos"
      ],
      "metadata": {
        "id": "1yjqTxNtc6vd"
      }
    },
    {
      "cell_type": "code",
      "source": [
        "# print('\\n10 produtos mais vendidos:\\n')\n",
        "print(df.groupby(\"Product Name\").Sales.sum().sort_values(ascending=False).head(10),'\\n\\n')"
      ],
      "metadata": {
        "colab": {
          "base_uri": "https://localhost:8080/"
        },
        "id": "kSRPu_O3c4ZR",
        "outputId": "ee068870-564e-45f8-fee6-bb645c22ec2c"
      },
      "execution_count": 10,
      "outputs": [
        {
          "output_type": "stream",
          "name": "stdout",
          "text": [
            "Product Name\n",
            "Canon imageCLASS 2200 Advanced Copier                                          61599.824\n",
            "Fellowes PB500 Electric Punch Plastic Comb Binding Machine with Manual Bind    27453.384\n",
            "Cisco TelePresence System EX90 Videoconferencing Unit                          22638.480\n",
            "HON 5400 Series Task Chairs for Big and Tall                                   21870.576\n",
            "GBC DocuBind TL300 Electric Binding System                                     19823.479\n",
            "GBC Ibimaster 500 Manual ProClick Binding System                               19024.500\n",
            "Hewlett Packard LaserJet 3310 Copier                                           18839.686\n",
            "HP Designjet T520 Inkjet Large Format Printer - 24\" Color                      18374.895\n",
            "GBC DocuBind P400 Electric Binding System                                      17965.068\n",
            "High Speed Automatic Electric Letter Opener                                    17030.312\n",
            "Name: Sales, dtype: float64 \n",
            "\n",
            "\n"
          ]
        }
      ]
    },
    {
      "cell_type": "markdown",
      "source": [
        "### Valor das vendas por região"
      ],
      "metadata": {
        "id": "ZOxAwxaMcyBe"
      }
    },
    {
      "cell_type": "code",
      "source": [
        "# print('Valor das vendas por região: \\n')\n",
        "print(df.groupby(\"Region\").Sales.sum(),'\\n')\n"
      ],
      "metadata": {
        "colab": {
          "base_uri": "https://localhost:8080/"
        },
        "id": "ZBowuItMcvVP",
        "outputId": "af674a4e-1f57-417a-ea12-1ce845d177f2"
      },
      "execution_count": 11,
      "outputs": [
        {
          "output_type": "stream",
          "name": "stdout",
          "text": [
            "Region\n",
            "Central    501239.8908\n",
            "East       678781.2400\n",
            "South      391721.9050\n",
            "West       725457.8245\n",
            "Name: Sales, dtype: float64 \n",
            "\n"
          ]
        }
      ]
    },
    {
      "cell_type": "markdown",
      "source": [
        "### Vendas por segmento"
      ],
      "metadata": {
        "id": "zdDxzW8ddZ3e"
      }
    },
    {
      "cell_type": "code",
      "source": [
        "\n",
        "# print('\\nVendas por segmento:')\n",
        "pie_data = (df.groupby('Segment')['Sales'].sum()).to_frame()\n",
        "pie_data['Percent_Sale'] = round((pie_data.Sales/sum(pie_data.Sales))*100)\n",
        "plt.pie(pie_data.Percent_Sale, labels=pie_data.index,  startangle=90, autopct='%.1f%%');plt.show\n"
      ],
      "metadata": {
        "colab": {
          "base_uri": "https://localhost:8080/",
          "height": 266
        },
        "id": "CRLZN227ECaW",
        "outputId": "fb4d3292-ec5b-4dcf-99a0-be072d4f9d1e"
      },
      "execution_count": 12,
      "outputs": [
        {
          "output_type": "execute_result",
          "data": {
            "text/plain": [
              "<function matplotlib.pyplot.show>"
            ]
          },
          "metadata": {},
          "execution_count": 12
        },
        {
          "output_type": "display_data",
          "data": {
            "image/png": "[encoded data removed]",
            "text/plain": [
              "<Figure size 432x288 with 1 Axes>"
            ]
          },
          "metadata": {}
        }
      ]
    },
    {
      "cell_type": "markdown",
      "source": [
        "O segmento de consumo é o que está gerando mais vendas, então podemos concluir que significa que a maioria das compras é feita por clientes simples\n"
      ],
      "metadata": {
        "id": "URAoANRHJXPT"
      }
    },
    {
      "cell_type": "markdown",
      "source": [
        "### Quantidade"
      ],
      "metadata": {
        "id": "0c9St_VoBHFj"
      }
    },
    {
      "cell_type": "code",
      "source": [
        "plt.figure(figsize=(14,8))\n",
        "QuantityPlot = sns.distplot(df['Quantity'], kde=False)"
      ],
      "metadata": {
        "colab": {
          "base_uri": "https://localhost:8080/",
          "height": 552
        },
        "id": "MuA0gtuSA2Jr",
        "outputId": "64f6ef07-5f91-4d59-88a6-0541c969476c"
      },
      "execution_count": 13,
      "outputs": [
        {
          "output_type": "stream",
          "name": "stderr",
          "text": [
            "/usr/local/lib/python3.7/dist-packages/seaborn/distributions.py:2619: FutureWarning: `distplot` is a deprecated function and will be removed in a future version. Please adapt your code to use either `displot` (a figure-level function with similar flexibility) or `histplot` (an axes-level function for histograms).\n",
            "  warnings.warn(msg, FutureWarning)\n"
          ]
        },
        {
          "output_type": "display_data",
          "data": {
            "image/png": "[encoded data removed]",
            "text/plain": [
              "<Figure size 1008x576 with 1 Axes>"
            ]
          },
          "metadata": {
            "needs_background": "light"
          }
        }
      ]
    },
    {
      "cell_type": "markdown",
      "source": [
        "A maioria dos clientes solicita de 2 a 5 produtos individuais e apenas alguns clientes solicitam mais de 8 produtos individuais por vez."
      ],
      "metadata": {
        "id": "eeCVGKmcBC0c"
      }
    },
    {
      "cell_type": "markdown",
      "source": [
        "### Sales por Ship Mode"
      ],
      "metadata": {
        "id": "sHuL3n0JdeJP"
      }
    },
    {
      "cell_type": "code",
      "source": [
        "# print('\\nSales por Ship Mode: \\n')\n",
        "sns.barplot('Ship Mode','Sales',data=df,estimator=sum)\n",
        "\n"
      ],
      "metadata": {
        "colab": {
          "base_uri": "https://localhost:8080/",
          "height": 362
        },
        "id": "h2qAMa48EIuX",
        "outputId": "5a5c3144-05ac-4433-fd94-be6aac00c705"
      },
      "execution_count": 14,
      "outputs": [
        {
          "output_type": "stream",
          "name": "stderr",
          "text": [
            "/usr/local/lib/python3.7/dist-packages/seaborn/_decorators.py:43: FutureWarning: Pass the following variables as keyword args: x, y. From version 0.12, the only valid positional argument will be `data`, and passing other arguments without an explicit keyword will result in an error or misinterpretation.\n",
            "  FutureWarning\n"
          ]
        },
        {
          "output_type": "execute_result",
          "data": {
            "text/plain": [
              "<matplotlib.axes._subplots.AxesSubplot at 0x7f3112a1c790>"
            ]
          },
          "metadata": {},
          "execution_count": 14
        },
        {
          "output_type": "display_data",
          "data": {
            "image/png": "[encoded data removed]",
            "text/plain": [
              "<Figure size 432x288 with 1 Axes>"
            ]
          },
          "metadata": {
            "needs_background": "light"
          }
        }
      ]
    },
    {
      "cell_type": "markdown",
      "source": [
        "Como a maioria das vendas são para pessoas comuns (físicas), então faz sentido ter  ship mode padrão em maior quantidade."
      ],
      "metadata": {
        "id": "a59K_3-hJeGF"
      }
    },
    {
      "cell_type": "code",
      "source": [
        "df.groupby(['State']).size().plot(kind='bar',figsize=(18,8))\n"
      ],
      "metadata": {
        "colab": {
          "base_uri": "https://localhost:8080/",
          "height": 603
        },
        "id": "Eder5X0eGwSh",
        "outputId": "3ae1599f-ddfc-4c2b-b633-731075d3dc26"
      },
      "execution_count": 15,
      "outputs": [
        {
          "output_type": "execute_result",
          "data": {
            "text/plain": [
              "<matplotlib.axes._subplots.AxesSubplot at 0x7f3112a85f90>"
            ]
          },
          "metadata": {},
          "execution_count": 15
        },
        {
          "output_type": "display_data",
          "data": {
            "image/png": "[encoded data removed]",
            "text/plain": [
              "<Figure size 1296x576 with 1 Axes>"
            ]
          },
          "metadata": {
            "needs_background": "light"
          }
        }
      ]
    },
    {
      "cell_type": "markdown",
      "source": [
        "A maioria dos pedidos vem da Califórnia, seguida de Nova York e Texas."
      ],
      "metadata": {
        "id": "3dQHmrOyG-96"
      }
    },
    {
      "cell_type": "markdown",
      "source": [
        "### Vendas por regiao"
      ],
      "metadata": {
        "id": "p4yuwCguBbxC"
      }
    },
    {
      "cell_type": "code",
      "source": [
        "#vendas por regiao\n",
        "plt.figure()\n",
        "sns.catplot(y = 'Region',x = 'Sales',data=df,kind='bar',estimator=sum)\n",
        "plt.show()"
      ],
      "metadata": {
        "colab": {
          "base_uri": "https://localhost:8080/",
          "height": 386
        },
        "id": "I1Lr8ryyEKGx",
        "outputId": "9a19b8c1-a999-47a2-ec4a-a3b1f8c09880"
      },
      "execution_count": 16,
      "outputs": [
        {
          "output_type": "display_data",
          "data": {
            "text/plain": [
              "<Figure size 432x288 with 0 Axes>"
            ]
          },
          "metadata": {}
        },
        {
          "output_type": "display_data",
          "data": {
            "image/png": "[encoded data removed]",
            "text/plain": [
              "<Figure size 360x360 with 1 Axes>"
            ]
          },
          "metadata": {
            "needs_background": "light"
          }
        }
      ]
    },
    {
      "cell_type": "markdown",
      "source": [
        "### **Dados não relacionados**\n",
        "\t\n",
        "  Não há uma chave estrangeira única entre os dados de “Orders” e “Returns”, o que impossibilita saber qual pedido foi devolvido.\n",
        "\t\n",
        "Por ex.:\n",
        "\n",
        "Na planilha “Returns” temos\n",
        "\n",
        "| Returned \t| Order ID       \t|\n",
        "|----------\t|----------------\t|\n",
        "| Yes      \t| CA-2017-153822 \t|\n",
        "\n",
        "\n",
        "Já na planilha “Orders” temos diferentes pedidos, com produtos diferentes, mas com a mema ID: \n",
        "\n",
        "\n",
        "| Order ID       \t| Order Date \t| Ship Date \t| Ship Mode      \t| Customer ID \t| Customer Name \t|\n",
        "|----------------\t|------------\t|-----------\t|----------------\t|-------------\t|---------------\t|\n",
        "| CA-2017-153822 \t| 9/19/2017  \t| 9/25/2017 \t| Standard Class \t| AB-10105    \t| Adrian Barton \t|\n",
        "| CA-2017-153822 \t| 9/19/2017  \t| 9/25/2017 \t| Standard Class \t| AB-10105    \t| Adrian Barton \t|\n",
        "| CA-2017-153822 \t| 9/19/2017  \t| 9/25/2017 \t| Standard Class \t| AB-10105    \t| Adrian Barton \t|\n",
        "| CA-2017-153822 \t| 9/19/2017  \t| 9/25/2017 \t| Standard Class \t| AB-10105    \t| Adrian Barton \t|\n",
        "\n"
      ],
      "metadata": {
        "id": "fHqBuvf8H5xs"
      }
    },
    {
      "cell_type": "markdown",
      "source": [
        "### **Mesmos “Costumers” com “Regions” diferentes**\n",
        "\t\n",
        "Os dados podem estar inconsistentes em relação aos clientes e as suas regiões. \n",
        "\n",
        "Por ex.: A cliente Anna Andreadi na ROW ID 8006 está com Region East e na ROW ID está na Region Central\n"
      ],
      "metadata": {
        "id": "rlkDPgN9JM1G"
      }
    },
    {
      "cell_type": "markdown",
      "source": [
        "# Trabalhos futuros:\n",
        "\n",
        "* Caso houvesse mais tempo, seria realizado uma análise mais profunda acerca de anomalias nos dados, na tentativa descobrir algum problema relacionado a profit, discount e sales\n",
        "* Adicionar mais dados como WeekDay, Day Year, Month, etc. Isso facilitaria a visualização do crescimento dos pedidos ao longo dos anos\n",
        "* Seria interessante investigar se há associações implícitas entre os diferentes atributos da base de dados. Por exemplo, entre Region e Ship Mode. Para isso, faríamos uso de técnicas de mineração de dados, como     algoritmos de extraçao de regras de associação\n",
        "* Responder mais perguntas a partir do uso de gráficos, taís como:\n",
        "          - Qual é o ID de cliente mais lucrativo a cada ano? E por que?\n",
        "          - Qual estado tem a maior porcentagem de suas vendas provenientes de ta um produto x? \n",
        "          - As vendas estão aumentando? reduzindo? Devido a que?\n",
        "\n",
        "\n",
        "\n",
        "\n",
        "\n",
        "\n",
        "\n"
      ],
      "metadata": {
        "id": "867jSeDvJ_Yq"
      }
    }
  ]
}