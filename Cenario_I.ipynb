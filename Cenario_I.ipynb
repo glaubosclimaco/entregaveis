{
  "nbformat": 4,
  "nbformat_minor": 0,
  "metadata": {
    "colab": {
      "name": "Cenario-I.ipynb",
      "provenance": [],
      "mount_file_id": "1bMvSY3KFh1cIzbvUPrTi0hyGo-wtGPiU",
      "authorship_tag": "ABX9TyNGxBdC/yihZ6KodNjWUN19",
      "include_colab_link": true
    },
    "kernelspec": {
      "name": "python3",
      "display_name": "Python 3"
    },
    "language_info": {
      "name": "python"
    }
  },
  "cells": [
    {
      "cell_type": "markdown",
      "metadata": {
        "id": "view-in-github",
        "colab_type": "text"
      },
      "source": [
        "<a href=\"https://colab.research.google.com/github/glaubosclimaco/entregaveis/blob/main/Cenario_I.ipynb\" target=\"_parent\"><img src=\"https://colab.research.google.com/assets/colab-badge.svg\" alt=\"Open In Colab\"/></a>"
      ]
    },
    {
      "cell_type": "code",
      "execution_count": 14,
      "metadata": {
        "colab": {
          "base_uri": "https://localhost:8080/"
        },
        "id": "-N0bjBvwbsnP",
        "outputId": "d86266de-c977-4e2e-b46a-7643b44b9ce6"
      },
      "outputs": [
        {
          "output_type": "stream",
          "name": "stdout",
          "text": [
            "Row ID           0\n",
            "Order ID         0\n",
            "Order Date       0\n",
            "Ship Date        0\n",
            "Ship Mode        0\n",
            "Customer ID      0\n",
            "Customer Name    0\n",
            "Segment          0\n",
            "Country          0\n",
            "City             0\n",
            "State            0\n",
            "Postal Code      0\n",
            "Region           0\n",
            "Product ID       0\n",
            "Category         0\n",
            "Sub-Category     0\n",
            "Product Name     0\n",
            "Sales            0\n",
            "Quantity         0\n",
            "Discount         0\n",
            "Profit           0\n",
            "dtype: int64 \n",
            "\n"
          ]
        }
      ],
      "source": [
        "import pandas as pd\n",
        "import matplotlib.pyplot as plt\n",
        "import seaborn as sns\n",
        "import sys\n",
        "\n",
        "#lendo o arquivo e usando um parser para datas (para futuras analises)\n",
        "df = pd.read_excel('/content/drive/MyDrive/Colab Notebooks/Cenário I/sample.xlsm',parse_dates=['Order Date','Ship Date'])\n",
        "\n",
        "\n",
        "###\n",
        "# LIMPEZA DOS DADOS \n",
        "###\n",
        "\n",
        "# verificando quantidade de valores nulos\n",
        "print(df.isnull().sum(),'\\n')\n",
        "\n",
        "# verificando quantos paises existem\n",
        "#print(df.Country.unique(),'\\n')\n",
        "\n",
        "# qual o range dos anos?\n",
        "# print(df['Order Date'].dt.year.unique())\n",
        "# print(df['Ship Date'].dt.year.unique())\n",
        "# print(df[df['Ship Date'].dt.year == 2018],'\\n') ok\n",
        "\n"
      ]
    },
    {
      "cell_type": "code",
      "source": [
        "print(\"\\nPossíveis outliers para Sales:\\n\\n\")\n",
        "\n",
        "q_low = df[\"Sales\"].quantile(0.001)\n",
        "q_hi  = df[\"Sales\"].quantile(0.999)\n",
        "\n",
        "df_filtered = df[(df[\"Sales\"] < q_low)] \n",
        "print(df_filtered,'\\n\\n')\n",
        "df_filtered = df[(df[\"Sales\"] > q_hi)] \n",
        "print(df_filtered,'\\n\\n')"
      ],
      "metadata": {
        "colab": {
          "base_uri": "https://localhost:8080/"
        },
        "id": "qFho9bIoEo9q",
        "outputId": "42766580-adb4-4457-8f12-a71ae007b0f5"
      },
      "execution_count": 13,
      "outputs": [
        {
          "output_type": "stream",
          "name": "stdout",
          "text": [
            "\n",
            "Possíveis outliers para Sales:\n",
            "\n",
            "\n",
            "      Row ID        Order ID Order Date  ... Quantity Discount  Profit\n",
            "1332  1333.0  CA-2014-122567 2014-02-16  ...      3.0      0.8 -1.7280\n",
            "2106  2107.0  US-2014-152723 2014-09-26  ...      1.0      0.8 -1.4016\n",
            "2761  2762.0  CA-2017-126536 2017-10-12  ...      1.0      0.0  0.4356\n",
            "4101  4102.0  US-2017-102288 2017-06-19  ...      1.0      0.8 -1.1100\n",
            "4711  4712.0  CA-2014-112403 2014-03-31  ...      1.0      0.7 -0.5964\n",
            "7548  7549.0  CA-2014-103492 2014-10-10  ...      1.0      0.8 -1.5715\n",
            "8024  8025.0  CA-2014-129189 2014-07-21  ...      1.0      0.8 -1.8270\n",
            "8033  8034.0  CA-2015-119690 2015-06-25  ...      2.0      0.8 -1.4760\n",
            "8658  8659.0  CA-2016-168361 2016-06-21  ...      1.0      0.8 -1.3376\n",
            "9292  9293.0  CA-2017-124114 2017-03-02  ...      1.0      0.8 -0.9452\n",
            "\n",
            "[10 rows x 21 columns] \n",
            "\n",
            "\n",
            "      Row ID        Order ID Order Date  ... Quantity Discount     Profit\n",
            "2623  2624.0  CA-2017-127180 2017-10-22  ...      4.0      0.2  3919.9888\n",
            "2697  2698.0  CA-2014-145317 2014-03-18  ...      6.0      0.5 -1811.0784\n",
            "4098  4099.0  CA-2014-116904 2014-09-23  ...      5.0      0.0  4630.4755\n",
            "4190  4191.0  CA-2017-166709 2017-11-17  ...      3.0      0.0  5039.9856\n",
            "4277  4278.0  US-2016-107440 2016-04-16  ...      7.0      0.0  2365.9818\n",
            "6425  6426.0  CA-2016-143714 2016-05-23  ...      4.0      0.4  1119.9968\n",
            "6826  6827.0  CA-2016-118689 2016-10-02  ...      5.0      0.0  8399.9760\n",
            "8153  8154.0  CA-2017-140151 2017-03-23  ...      4.0      0.0  6719.9808\n",
            "8488  8489.0  CA-2016-158841 2016-02-02  ...      5.0      0.0  2799.9840\n",
            "9039  9040.0  CA-2016-117121 2016-12-17  ...     13.0      0.0  4946.3700\n",
            "\n",
            "[10 rows x 21 columns] \n",
            "\n",
            "\n"
          ]
        }
      ]
    },
    {
      "cell_type": "code",
      "source": [
        "\n",
        "# print(\"\\nPossíveis outliers para Quantity:\\n\\n\")\n",
        "\n",
        "\n",
        "# q_low = df[\"Quantity\"].quantile(0.1)\n",
        "# q_hi  = df[\"Quantity\"].quantile(0.99)\n",
        "\n",
        "# df_filtered = df[(df[\"Quantity\"] < q_low)] \n",
        "# print(df_filtered,'\\n\\n')\n",
        "# df_filtered = df[(df[\"Quantity\"] > q_hi)] \n",
        "# print(df_filtered,'\\n\\n')\n",
        "\n",
        "print(\"\\nPossíveis outliers para Profit:\\n\\n\")\n",
        "\n",
        "q_low = df[\"Profit\"].quantile(0.001)\n",
        "q_hi  = df[\"Profit\"].quantile(0.999)\n",
        "\n",
        "df_filtered = df[(df[\"Profit\"] < q_low)] \n",
        "print(df_filtered,'\\n\\n')\n",
        "df_filtered = df[(df[\"Profit\"] > q_hi)] \n",
        "print(df_filtered,'\\n\\n')\n",
        "\n"
      ],
      "metadata": {
        "colab": {
          "base_uri": "https://localhost:8080/"
        },
        "id": "uBYerpHkD5PP",
        "outputId": "84c78ec2-28bf-485f-c038-7a745c7199f0"
      },
      "execution_count": 5,
      "outputs": [
        {
          "output_type": "stream",
          "name": "stdout",
          "text": [
            "\n",
            "Possíveis outliers para Profit:\n",
            "\n",
            "\n",
            "      Row ID        Order ID Order Date  ... Quantity Discount     Profit\n",
            "683    684.0  US-2017-168116 2017-11-04  ...      4.0      0.5 -3839.9904\n",
            "1199  1200.0  CA-2016-130946 2016-04-08  ...      4.0      0.8 -1850.9464\n",
            "2697  2698.0  CA-2014-145317 2014-03-18  ...      6.0      0.5 -1811.0784\n",
            "3011  3012.0  CA-2017-134845 2017-04-17  ...      5.0      0.7 -3399.9800\n",
            "3151  3152.0  CA-2015-147830 2015-12-15  ...      2.0      0.7 -2639.9912\n",
            "4991  4992.0  US-2017-122714 2017-12-07  ...      5.0      0.8 -2929.4845\n",
            "5310  5311.0  CA-2017-131254 2017-11-19  ...      6.0      0.8 -2287.7820\n",
            "7772  7773.0  CA-2016-108196 2016-11-25  ...      5.0      0.7 -6599.9780\n",
            "9639  9640.0  CA-2015-116638 2015-01-28  ...     13.0      0.4 -1862.3124\n",
            "9774  9775.0  CA-2014-169019 2014-07-26  ...      8.0      0.8 -3701.8928\n",
            "\n",
            "[10 rows x 21 columns] \n",
            "\n",
            "\n",
            "      Row ID        Order ID Order Date  ... Quantity Discount     Profit\n",
            "509    510.0  CA-2015-145352 2015-03-16  ...      5.0      0.0  3177.4750\n",
            "2623  2624.0  CA-2017-127180 2017-10-22  ...      4.0      0.2  3919.9888\n",
            "4098  4099.0  CA-2014-116904 2014-09-23  ...      5.0      0.0  4630.4755\n",
            "4190  4191.0  CA-2017-166709 2017-11-17  ...      3.0      0.0  5039.9856\n",
            "6520  6521.0  CA-2017-138289 2017-01-16  ...      4.0      0.0  2504.2216\n",
            "6826  6827.0  CA-2016-118689 2016-10-02  ...      5.0      0.0  8399.9760\n",
            "7666  7667.0  US-2016-140158 2016-10-04  ...      9.0      0.0  2591.9568\n",
            "8153  8154.0  CA-2017-140151 2017-03-23  ...      4.0      0.0  6719.9808\n",
            "8488  8489.0  CA-2016-158841 2016-02-02  ...      5.0      0.0  2799.9840\n",
            "9039  9040.0  CA-2016-117121 2016-12-17  ...     13.0      0.0  4946.3700\n",
            "\n",
            "[10 rows x 21 columns] \n",
            "\n",
            "\n"
          ]
        }
      ]
    },
    {
      "cell_type": "code",
      "source": [
        "# Correlacao entre as colunas\n",
        "print('Correlacao entre as colunas:\\n')\n",
        "print(df.corr())\n",
        "\n",
        "# Descricao dos dados\n",
        "print(\"\\nEstatística descritiva:\\n\")\n",
        "print(df.describe())"
      ],
      "metadata": {
        "colab": {
          "base_uri": "https://localhost:8080/"
        },
        "id": "FFmim-nUE47I",
        "outputId": "e5f1b2ba-a3cd-4d2f-a95c-c7203d2b3165"
      },
      "execution_count": 15,
      "outputs": [
        {
          "output_type": "stream",
          "name": "stdout",
          "text": [
            "Correlacao entre as colunas:\n",
            "\n",
            "               Row ID  Postal Code     Sales  Quantity  Discount    Profit\n",
            "Row ID       1.000000     0.009671 -0.001359 -0.004016  0.013480  0.012497\n",
            "Postal Code  0.009671     1.000000 -0.023854  0.012761  0.058443 -0.029961\n",
            "Sales       -0.001359    -0.023854  1.000000  0.200795 -0.028190  0.479064\n",
            "Quantity    -0.004016     0.012761  0.200795  1.000000  0.008623  0.066253\n",
            "Discount     0.013480     0.058443 -0.028190  0.008623  1.000000 -0.219487\n",
            "Profit       0.012497    -0.029961  0.479064  0.066253 -0.219487  1.000000\n",
            "\n",
            "Estatística descritiva:\n",
            "\n",
            "            Row ID   Postal Code  ...     Discount       Profit\n",
            "count  9994.000000   9994.000000  ...  9994.000000  9994.000000\n",
            "mean   4997.500000  55190.379428  ...     0.156203    28.656896\n",
            "std    2885.163629  32063.693350  ...     0.206452   234.260108\n",
            "min       1.000000   1040.000000  ...     0.000000 -6599.978000\n",
            "25%    2499.250000  23223.000000  ...     0.000000     1.728750\n",
            "50%    4997.500000  56430.500000  ...     0.200000     8.666500\n",
            "75%    7495.750000  90008.000000  ...     0.200000    29.364000\n",
            "max    9994.000000  99301.000000  ...     0.800000  8399.976000\n",
            "\n",
            "[8 rows x 6 columns]\n"
          ]
        }
      ]
    },
    {
      "cell_type": "code",
      "source": [
        "print('\\n\\n**Análise exploratória:**\\n\\n')\n",
        "\n",
        "print('Valor das vendas por região: \\n')\n",
        "print(df.groupby(\"Region\").Sales.sum(),'\\n')\n",
        "\n",
        "\n",
        "print('\\n10 produtos mais vendidos:\\n')\n",
        "print(df.groupby(\"Product Name\").Sales.sum().sort_values(ascending=False).head(10),'\\n\\n')\n",
        "\n",
        "\n",
        "print('\\n10 produtos mais lucrativos:\\n')\n",
        "print(df.groupby(\"Product Name\").Profit.sum().sort_values(ascending=False).head(10),'\\n\\n')\n",
        "\n",
        "print('\\nCategorias mais lucrativas:\\n')\n",
        "print(df.groupby(\"Category\").Profit.sum(),'\\n\\n')\n"
      ],
      "metadata": {
        "colab": {
          "base_uri": "https://localhost:8080/"
        },
        "id": "yBmnosPVD_Et",
        "outputId": "95786e45-9667-4ecf-b6d6-1254c3a51788"
      },
      "execution_count": 16,
      "outputs": [
        {
          "output_type": "stream",
          "name": "stdout",
          "text": [
            "\n",
            "\n",
            "**Análise exploratória:**\n",
            "\n",
            "\n",
            "Valor das vendas por região: \n",
            "\n",
            "Region\n",
            "Central    501239.8908\n",
            "East       678781.2400\n",
            "South      391721.9050\n",
            "West       725457.8245\n",
            "Name: Sales, dtype: float64 \n",
            "\n",
            "\n",
            "10 produtos mais vendidos:\n",
            "\n",
            "Product Name\n",
            "Canon imageCLASS 2200 Advanced Copier                                          61599.824\n",
            "Fellowes PB500 Electric Punch Plastic Comb Binding Machine with Manual Bind    27453.384\n",
            "Cisco TelePresence System EX90 Videoconferencing Unit                          22638.480\n",
            "HON 5400 Series Task Chairs for Big and Tall                                   21870.576\n",
            "GBC DocuBind TL300 Electric Binding System                                     19823.479\n",
            "GBC Ibimaster 500 Manual ProClick Binding System                               19024.500\n",
            "Hewlett Packard LaserJet 3310 Copier                                           18839.686\n",
            "HP Designjet T520 Inkjet Large Format Printer - 24\" Color                      18374.895\n",
            "GBC DocuBind P400 Electric Binding System                                      17965.068\n",
            "High Speed Automatic Electric Letter Opener                                    17030.312\n",
            "Name: Sales, dtype: float64 \n",
            "\n",
            "\n",
            "\n",
            "10 produtos mais lucrativos:\n",
            "\n",
            "Product Name\n",
            "Canon imageCLASS 2200 Advanced Copier                                          25199.9280\n",
            "Fellowes PB500 Electric Punch Plastic Comb Binding Machine with Manual Bind     7753.0390\n",
            "Hewlett Packard LaserJet 3310 Copier                                            6983.8836\n",
            "Canon PC1060 Personal Laser Copier                                              4570.9347\n",
            "HP Designjet T520 Inkjet Large Format Printer - 24\" Color                       4094.9766\n",
            "Ativa V4110MDD Micro-Cut Shredder                                               3772.9461\n",
            "3D Systems Cube Printer, 2nd Generation, Magenta                                3717.9714\n",
            "Plantronics Savi W720 Multi-Device Wireless Headset System                      3696.2820\n",
            "Ibico EPK-21 Electric Binding System                                            3345.2823\n",
            "Zebra ZM400 Thermal Label Printer                                               3343.5360\n",
            "Name: Profit, dtype: float64 \n",
            "\n",
            "\n",
            "\n",
            "Categorias mais lucrativas:\n",
            "\n",
            "Category\n",
            "Furniture           18451.2728\n",
            "Office Supplies    122490.8008\n",
            "Technology         145454.9481\n",
            "Name: Profit, dtype: float64 \n",
            "\n",
            "\n"
          ]
        }
      ]
    },
    {
      "cell_type": "code",
      "source": [
        "\n",
        "print('\\nVendas por segmento:')\n",
        "pie_data = (df.groupby('Segment')['Sales'].sum()).to_frame()\n",
        "pie_data['Percent_Sale'] = round((pie_data.Sales/sum(pie_data.Sales))*100)\n",
        "plt.pie(pie_data.Percent_Sale, labels=pie_data.index,  startangle=90, autopct='%.1f%%');plt.show\n"
      ],
      "metadata": {
        "colab": {
          "base_uri": "https://localhost:8080/",
          "height": 300
        },
        "id": "CRLZN227ECaW",
        "outputId": "0b840154-85dc-470b-e657-d7a52f8a8e4c"
      },
      "execution_count": 8,
      "outputs": [
        {
          "output_type": "stream",
          "name": "stdout",
          "text": [
            "\n",
            "Vendas por segmento:\n"
          ]
        },
        {
          "output_type": "execute_result",
          "data": {
            "text/plain": [
              "<function matplotlib.pyplot.show>"
            ]
          },
          "metadata": {},
          "execution_count": 8
        },
        {
          "output_type": "display_data",
          "data": {
            "image/png": "[encoded data removed]",
            "text/plain": [
              "<Figure size 432x288 with 1 Axes>"
            ]
          },
          "metadata": {}
        }
      ]
    },
    {
      "cell_type": "code",
      "source": [
        "print('\\nSales por Ship Mode: \\n')\n",
        "sns.barplot('Ship Mode','Sales',data=df,estimator=sum)\n",
        "\n"
      ],
      "metadata": {
        "colab": {
          "base_uri": "https://localhost:8080/",
          "height": 414
        },
        "id": "h2qAMa48EIuX",
        "outputId": "f94116a8-9221-426d-e5aa-4f02a97d55d3"
      },
      "execution_count": 9,
      "outputs": [
        {
          "output_type": "stream",
          "name": "stdout",
          "text": [
            "\n",
            "Sales por Ship Mode: \n",
            "\n"
          ]
        },
        {
          "output_type": "stream",
          "name": "stderr",
          "text": [
            "/usr/local/lib/python3.7/dist-packages/seaborn/_decorators.py:43: FutureWarning: Pass the following variables as keyword args: x, y. From version 0.12, the only valid positional argument will be `data`, and passing other arguments without an explicit keyword will result in an error or misinterpretation.\n",
            "  FutureWarning\n"
          ]
        },
        {
          "output_type": "execute_result",
          "data": {
            "text/plain": [
              "<matplotlib.axes._subplots.AxesSubplot at 0x7f31b7e33290>"
            ]
          },
          "metadata": {},
          "execution_count": 9
        },
        {
          "output_type": "display_data",
          "data": {
            "image/png": "[encoded data removed]",
            "text/plain": [
              "<Figure size 432x288 with 1 Axes>"
            ]
          },
          "metadata": {
            "needs_background": "light"
          }
        }
      ]
    },
    {
      "cell_type": "code",
      "source": [
        "#vendas por regiao\n",
        "plt.figure()\n",
        "sns.catplot(y = 'Region',x = 'Sales',data=df,kind='bar',estimator=sum)\n",
        "plt.show()"
      ],
      "metadata": {
        "colab": {
          "base_uri": "https://localhost:8080/",
          "height": 386
        },
        "id": "I1Lr8ryyEKGx",
        "outputId": "14247907-8be6-4b0a-a45d-6cf6d78e1ca9"
      },
      "execution_count": 12,
      "outputs": [
        {
          "output_type": "display_data",
          "data": {
            "text/plain": [
              "<Figure size 432x288 with 0 Axes>"
            ]
          },
          "metadata": {}
        },
        {
          "output_type": "display_data",
          "data": {
            "image/png": "[encoded data removed]",
            "text/plain": [
              "<Figure size 360x360 with 1 Axes>"
            ]
          },
          "metadata": {
            "needs_background": "light"
          }
        }
      ]
    }
  ]
}