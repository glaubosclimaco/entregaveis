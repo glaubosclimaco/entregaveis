{
  "nbformat": 4,
  "nbformat_minor": 0,
  "metadata": {
    "colab": {
      "name": "Cenario-II.ipynb",
      "provenance": [],
      "collapsed_sections": [],
      "mount_file_id": "1m985GFFUEayKo4mbuqAncP88lRwfqLzW",
      "authorship_tag": "ABX9TyMf+4qgkvWS/OEddPzVLBez",
      "include_colab_link": true
    },
    "kernelspec": {
      "name": "python3",
      "display_name": "Python 3"
    },
    "language_info": {
      "name": "python"
    }
  },
  "cells": [
    {
      "cell_type": "markdown",
      "metadata": {
        "id": "view-in-github",
        "colab_type": "text"
      },
      "source": [
        "<a href=\"https://colab.research.google.com/github/glaubosclimaco/entregaveis/blob/main/Cenario_II.ipynb\" target=\"_parent\"><img src=\"https://colab.research.google.com/assets/colab-badge.svg\" alt=\"Open In Colab\"/></a>"
      ]
    },
    {
      "cell_type": "markdown",
      "source": [
        "Carregando json"
      ],
      "metadata": {
        "id": "Zm4cFhQIMyWg"
      }
    },
    {
      "cell_type": "code",
      "execution_count": 3,
      "metadata": {
        "id": "LznQDop-n5Wz"
      },
      "outputs": [],
      "source": [
        "import pandas as pd\n",
        "import json\n",
        "import numpy as np\n",
        "\n",
        "df = pd.read_json('/content/drive/MyDrive/Colab Notebooks/Cenário II/data.json')\n",
        "\n",
        "# pd.set_option('display.max_columns', None) # para mostrar todas as colunas\n",
        "# pd.set_option('display.max_rows', None) # para mostrar todas as colunas\n",
        "\n",
        "df = df.loc[:,:'NFeID']\n",
        "\n",
        "# del df['ItemList']\n",
        "\n",
        "# print('\\n\\nSem itemlist:\\n\\n', df)\n",
        "\n",
        "# carregando json\n",
        "with open('/content/drive/MyDrive/Colab Notebooks/Cenário II/data.json','r') as f:\n",
        "    data = json.loads(f.read())\n",
        "\n",
        "\n",
        "\n",
        "\n",
        "\n",
        "\n"
      ]
    },
    {
      "cell_type": "markdown",
      "source": [
        "Expandindo a coluna ItemList num mesmo dataframe"
      ],
      "metadata": {
        "id": "CpivDgGRNBBm"
      }
    },
    {
      "cell_type": "code",
      "source": [
        "# ---\n",
        "# Expandindo a coluna ItemList num mesmo dataframe;\n",
        "# ---\n",
        "\n",
        "df_expanded = pd.json_normalize(\n",
        "    data, \n",
        "    record_path =['ItemList'], \n",
        "    meta=['CreateDate', 'EmissionDate','Discount', 'NFeNumber','NFeID']\n",
        ")\n",
        "print('\\n\\nExpandida:\\n\\n', df_expanded)\n",
        "\n"
      ],
      "metadata": {
        "colab": {
          "base_uri": "https://localhost:8080/"
        },
        "id": "p8QHNnErM-2o",
        "outputId": "e344d5bb-2bdb-4af9-9dae-c41459390ef9"
      },
      "execution_count": 4,
      "outputs": [
        {
          "output_type": "stream",
          "name": "stdout",
          "text": [
            "\n",
            "\n",
            "Expandida:\n",
            "\n",
            "     ProductName  Value  Quantity  ... Discount NFeNumber NFeID\n",
            "0          Rice  35.55         2  ...      0.0       501     1\n",
            "1         Flour  11.55         5  ...      0.0       501     1\n",
            "2          Bean  27.15         7  ...      0.0       501     1\n",
            "3        Tomate  12.25        10  ...      0.0       502     2\n",
            "4         Pasta   7.55         5  ...      0.0       502     2\n",
            "5          Beer   9.00         6  ...      0.0       503     3\n",
            "6  French fries  10.99         2  ...      0.0       503     3\n",
            "7     Ice cream  27.15         1  ...      0.0       503     3\n",
            "\n",
            "[8 rows x 8 columns]\n"
          ]
        }
      ]
    },
    {
      "cell_type": "markdown",
      "source": [
        "Normalizar os itens dessa coluna de dicionário e dividí-los em dois dataframes separados, seguindo o modelo relacional"
      ],
      "metadata": {
        "id": "DEd4dSpUM730"
      }
    },
    {
      "cell_type": "code",
      "source": [
        "# -----\n",
        "#  Normalizando os itens dessa coluna de dicionário e dividí-los em dois dataframes separados, seguindo o modelo relacional\n",
        "# -----\n",
        "\n",
        "# Normalizando os dados da lista de dics\n",
        "df_products = pd.json_normalize(data, record_path =['ItemList'])\n",
        "\n",
        "# print('\\n',df_products)\n",
        "\n",
        "#df temporarios\n",
        "# df_temp1 =  df_expanded.loc[:,:'Quantity']\n",
        "# print('df_temp1:\\n', df_temp1)\n",
        "df_temp2 =  df_expanded.loc[:,'NFeID':'NFeID']\n",
        "# print('df_temp2:\\n', df_temp2)\n",
        "# frames = [df_temp1, df_temp2]\n",
        "# df_products = pd.concat(frames)\n",
        "\n",
        "df_products[\"NFeID\"] = df_temp2\n",
        "# print('df_temp1:\\n', df_products)\n",
        "\n",
        "# values = df_expanded['NFeID'].unique()\n",
        "# values = pd.Series(np.arange(len(values)), values)\n",
        "# # df['Product_id'] = df_products['ProductName'].apply(values.get)\n",
        "# df_products['NFeID'] = df_expanded['ProductName'].apply(values.get)\n",
        "\n",
        "print('\\n\\nData Frame 1:\\n\\n',df)\n",
        "\n",
        "print('\\n\\nData Frame 2:\\n\\n',df_products)"
      ],
      "metadata": {
        "colab": {
          "base_uri": "https://localhost:8080/"
        },
        "id": "hTueQgOiM5ww",
        "outputId": "c531e5fe-4464-4757-fcbb-71e12639e1f4"
      },
      "execution_count": 5,
      "outputs": [
        {
          "output_type": "stream",
          "name": "stdout",
          "text": [
            "\n",
            "\n",
            "Data Frame 1:\n",
            "\n",
            "                CreateDate         EmissionDate  Discount  NFeNumber  NFeID\n",
            "0  2021-05-24T20:21:34.79  2021-05-24T00:00:00         0        501      1\n",
            "1  2021-05-24T20:21:34.79  2021-05-24T00:00:00         0        502      2\n",
            "2  2021-05-24T20:21:34.79  2021-05-24T00:00:00         0        503      3\n",
            "\n",
            "\n",
            "Data Frame 2:\n",
            "\n",
            "     ProductName  Value  Quantity NFeID\n",
            "0          Rice  35.55         2     1\n",
            "1         Flour  11.55         5     1\n",
            "2          Bean  27.15         7     1\n",
            "3        Tomate  12.25        10     2\n",
            "4         Pasta   7.55         5     2\n",
            "5          Beer   9.00         6     3\n",
            "6  French fries  10.99         2     3\n",
            "7     Ice cream  27.15         1     3\n"
          ]
        }
      ]
    },
    {
      "cell_type": "markdown",
      "source": [
        "Data Frame 1 e 2 estão relacionados pela coluna *NFeID*"
      ],
      "metadata": {
        "id": "SgF66WVMn7CN"
      }
    }
  ]
}